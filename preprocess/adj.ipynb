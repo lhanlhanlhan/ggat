{
 "cells": [
  {
   "cell_type": "code",
   "execution_count": null,
   "metadata": {},
   "outputs": [],
   "source": [
    "import pandas as pd\n",
    "import numpy as np"
   ]
  },
  {
   "cell_type": "markdown",
   "metadata": {},
   "source": [
    "# Calculate Distance and Produce Adj. Matrix"
   ]
  },
  {
   "cell_type": "markdown",
   "metadata": {},
   "source": [
    "## 1. Demo"
   ]
  },
  {
   "cell_type": "code",
   "execution_count": null,
   "metadata": {
    "tags": []
   },
   "outputs": [],
   "source": [
    "ca_fi = \"./{}-P.csv\".format(\"GBM\")"
   ]
  },
  {
   "cell_type": "code",
   "execution_count": null,
   "metadata": {},
   "outputs": [],
   "source": [
    "df_ca = pd.read_csv(ca_fi, sep='\\t', header=None)"
   ]
  },
  {
   "cell_type": "code",
   "execution_count": null,
   "metadata": {},
   "outputs": [],
   "source": [
    "# Get Feature Matrix (last col. is label; drop it in advance)\n",
    "df = df_ca.drop(df_ca.columns[len(df_ca.columns) - 1], axis=1)\n",
    "df.head()"
   ]
  },
  {
   "cell_type": "code",
   "execution_count": null,
   "metadata": {},
   "outputs": [],
   "source": [
    "# number of nodes\n",
    "n_nodes = df.shape[0]\n",
    "n_nodes"
   ]
  },
  {
   "cell_type": "code",
   "execution_count": null,
   "metadata": {},
   "outputs": [],
   "source": [
    "# allocate memory for adj. matrix\n",
    "adj = np.zeros([n_nodes, n_nodes])"
   ]
  },
  {
   "cell_type": "code",
   "execution_count": null,
   "metadata": {},
   "outputs": [],
   "source": [
    "# feature matrix: transform from pandas to numpy matrix\n",
    "ftr = df.to_numpy()\n",
    "ftr"
   ]
  },
  {
   "cell_type": "code",
   "execution_count": null,
   "metadata": {},
   "outputs": [],
   "source": [
    "ftr[0]"
   ]
  },
  {
   "cell_type": "code",
   "execution_count": null,
   "metadata": {},
   "outputs": [],
   "source": [
    "# try: ouclidean distance between two arbitrary nodes - method A\n",
    "np.linalg.norm(ftr[0] - ftr[1])"
   ]
  },
  {
   "cell_type": "code",
   "execution_count": null,
   "metadata": {},
   "outputs": [],
   "source": [
    "# try: ouclidean distance between two arbitrary nodes - method B\n",
    "np.sqrt(np.sum(np.square(ftr[0] - ftr[1])))"
   ]
  },
  {
   "cell_type": "code",
   "execution_count": null,
   "metadata": {},
   "outputs": [],
   "source": [
    "# produce adj matrix according to ouclidean distance\n",
    "dist_avg = np.zeros(n_nodes)\n",
    "dist = np.zeros([n_nodes, n_nodes])  # to note down distance of any two nodes\n",
    "for ii in range(0, n_nodes):\n",
    "    for jj in range(ii + 1, n_nodes):\n",
    "        vec_i, vec_j = ftr[ii], ftr[jj]\n",
    "        dist_ij = np.linalg.norm(vec_i - vec_j)\n",
    "        dist[ii][jj] = dist[jj][ii] = dist_ij\n",
    "    # avg distances of every nodes to its neighbours\n",
    "    dist_avg[ii] = np.average(dist[ii])"
   ]
  },
  {
   "cell_type": "code",
   "execution_count": null,
   "metadata": {},
   "outputs": [],
   "source": [
    "# produce adj. matrix\n",
    "for ii in range(0, n_nodes):\n",
    "    for jj in range(ii + 1, n_nodes):\n",
    "        vec_i, vec_j = ftr[ii], ftr[jj]\n",
    "        dist_ij = dist[ii][jj]\n",
    "        # if distance < avg distances, then connect them\n",
    "        if dist_ij < dist_avg[ii]:\n",
    "            adj[ii][jj] = adj[jj][ii] = 1"
   ]
  },
  {
   "cell_type": "code",
   "execution_count": null,
   "metadata": {},
   "outputs": [],
   "source": [
    "# only for preview purpose\n",
    "adj_df = pd.DataFrame(adj)\n",
    "adj_df.head()"
   ]
  },
  {
   "cell_type": "code",
   "execution_count": null,
   "metadata": {},
   "outputs": [],
   "source": [
    "from scipy.sparse import coo_matrix\n",
    "adj_coo = coo_matrix(adj)"
   ]
  },
  {
   "cell_type": "code",
   "execution_count": null,
   "metadata": {},
   "outputs": [],
   "source": [
    "adj_coo.row.shape"
   ]
  },
  {
   "cell_type": "code",
   "execution_count": null,
   "metadata": {},
   "outputs": [],
   "source": [
    "adj_coo.col.shape"
   ]
  },
  {
   "cell_type": "markdown",
   "metadata": {},
   "source": [
    "## 2. Produce adj. matrix for every dataset"
   ]
  },
  {
   "cell_type": "code",
   "execution_count": null,
   "metadata": {},
   "outputs": [],
   "source": [
    "def produce_adj(data_name):\n",
    "    print('Reading data: {}'.format(data_name))\n",
    "    ca_fi = \"./{}-P.csv\".format(data_name)\n",
    "    df_ca = pd.read_csv(ca_fi, sep='\\t', header=None)\n",
    "    df = df_ca.drop(df_ca.columns[len(df_ca.columns) - 1], axis=1)\n",
    "    ftr = df.to_numpy()\n",
    "    n_nodes = df.shape[0]\n",
    "    adj = np.zeros([n_nodes, n_nodes])\n",
    "    \n",
    "    print('Making adj. matrix: {}'.format(data_name))\n",
    "    # calc distances\n",
    "    dist_avg = np.zeros(n_nodes)\n",
    "    dist = np.zeros([n_nodes, n_nodes])\n",
    "    for ii in range(0, n_nodes):\n",
    "        for jj in range(ii + 1, n_nodes):\n",
    "            vec_i, vec_j = ftr[ii], ftr[jj]\n",
    "            dist_ij = np.linalg.norm(vec_i - vec_j)\n",
    "            dist[ii][jj] = dist[jj][ii] = dist_ij\n",
    "        dist_avg[ii] = np.average(dist[ii])\n",
    "    # calc adj matrix\n",
    "    for ii in range(0, n_nodes):\n",
    "        for jj in range(ii + 1, n_nodes):\n",
    "            vec_i, vec_j = ftr[ii], ftr[jj]\n",
    "            dist_ij = dist[ii][jj]\n",
    "            # 看看是否合格？\n",
    "            if dist_ij < dist_avg[ii]:\n",
    "                adj[ii][jj] = adj[jj][ii] = 1\n",
    "    # save adj matrix to file\n",
    "    adj_coo = coo_matrix(adj)\n",
    "    print('Saving adj. matrix to file: {}'.format(data_name))\n",
    "    with open('./ADJ/{}-A.txt'.format(data_name), 'w') as f:\n",
    "        for row, col in zip(adj_coo.row, adj_coo.col):\n",
    "            f.write('{}\\t{}\\n'.format(row, col))"
   ]
  },
  {
   "cell_type": "code",
   "execution_count": null,
   "metadata": {},
   "outputs": [],
   "source": [
    "for name in cas:\n",
    "    produce_adj(name)"
   ]
  }
 ],
 "metadata": {
  "kernelspec": {
   "display_name": "Python 3",
   "language": "python",
   "name": "python3"
  },
  "language_info": {
   "codemirror_mode": {
    "name": "ipython",
    "version": 3
   },
   "file_extension": ".py",
   "mimetype": "text/x-python",
   "name": "python",
   "nbconvert_exporter": "python",
   "pygments_lexer": "ipython3",
   "version": "3.8.10"
  }
 },
 "nbformat": 4,
 "nbformat_minor": 4
}
