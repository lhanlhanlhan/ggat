{
 "cells": [
  {
   "cell_type": "markdown",
   "id": "e5333f7b-3fa9-4773-8b35-9685ad9992d3",
   "metadata": {},
   "source": [
    "## Data Process and RFE (SVC, LR, DT)"
   ]
  },
  {
   "cell_type": "code",
   "execution_count": null,
   "id": "776b0b5b-1f78-455d-80c2-296b09dee654",
   "metadata": {},
   "outputs": [],
   "source": [
    "from sklearn.model_selection import StratifiedKFold\n",
    "from sklearn.feature_selection import RFECV"
   ]
  },
  {
   "cell_type": "code",
   "execution_count": null,
   "id": "eeab14a5-5b18-4ff9-9585-9adb31c1e713",
   "metadata": {},
   "outputs": [],
   "source": [
    "from sklearn.svm import SVC\n",
    "from sklearn.tree import DecisionTreeClassifier\n",
    "from sklearn.linear_model import LogisticRegression"
   ]
  },
  {
   "cell_type": "code",
   "execution_count": null,
   "id": "ffe45447-0e77-4981-abc1-dcf84a902b26",
   "metadata": {},
   "outputs": [],
   "source": [
    "# DT\n",
    "cl = DecisionTreeClassifier()"
   ]
  },
  {
   "cell_type": "code",
   "execution_count": null,
   "id": "aa90c242-1a39-42a2-8fb9-cafe40f69763",
   "metadata": {},
   "outputs": [],
   "source": [
    "# SVM\n",
    "cl = SVC(kernel=\"linear\")"
   ]
  },
  {
   "cell_type": "code",
   "execution_count": null,
   "id": "375880a0-4e04-4a16-b462-0dfd44563ca0",
   "metadata": {},
   "outputs": [],
   "source": [
    "rfecv = RFECV(estimator=cl, step=1, cv=StratifiedKFold(10), scoring='accuracy')"
   ]
  },
  {
   "cell_type": "code",
   "execution_count": null,
   "id": "aa9c7b04-38d2-4488-a5a0-db0af6b9da74",
   "metadata": {},
   "outputs": [],
   "source": [
    "# to separate labels and features\n",
    "labels = df_m['Label']\n",
    "ftr = df_m.drop(['Label'], axis=1)"
   ]
  },
  {
   "cell_type": "code",
   "execution_count": null,
   "id": "c8c4eca5-b62d-4423-bb32-1bc4f2114c50",
   "metadata": {},
   "outputs": [],
   "source": [
    "# RFE\n",
    "rfecv.fit(ftr, labels)"
   ]
  },
  {
   "cell_type": "code",
   "execution_count": null,
   "id": "2092639f-13b3-48c3-8ede-5bcb0a783044",
   "metadata": {},
   "outputs": [],
   "source": [
    "rank_list = pd.DataFrame(data=rfecv.ranking_)\n",
    "rank_list.to_csv('./data-after-select/rank/ftr-rank-UCEC.csv') # 注意这是 UCEC 的结果"
   ]
  },
  {
   "cell_type": "code",
   "execution_count": null,
   "id": "7329358e-ab7b-4d03-a342-f8301f956966",
   "metadata": {},
   "outputs": [],
   "source": [
    "import time\n",
    "import multiprocessing\n",
    "import os"
   ]
  },
  {
   "cell_type": "code",
   "execution_count": null,
   "id": "c53a95c8-e1b1-4db6-9cc5-4560006fe017",
   "metadata": {},
   "outputs": [],
   "source": [
    "import pandas as pd\n",
    "import numpy as np"
   ]
  },
  {
   "cell_type": "code",
   "execution_count": null,
   "id": "52c57276-90e7-42b1-8970-ed971aa8c565",
   "metadata": {},
   "outputs": [],
   "source": [
    "cas = ['BLCA', \"BRCA\", \"HNSC\", \"KIRC\", \"LUAD\", \"LUSC\", \"UCEC\"]"
   ]
  },
  {
   "cell_type": "code",
   "execution_count": null,
   "id": "f6e4fafb-2e1b-4db7-b8c4-1fa39797e419",
   "metadata": {},
   "outputs": [],
   "source": [
    "def read_ca_file(ca_name):\n",
    "    ca_fi = \"./orig-data/{}/{}-Ca.txt\".format(ca_name, ca_name)\n",
    "    cas_fi = \"./orig-data/{}/{}-CaS.txt\".format(ca_name, ca_name)\n",
    "    df_ca = pd.read_csv(ca_fi, sep='\\t', index_col='Tags')\n",
    "    df_cas = pd.read_csv(cas_fi, sep='\\t', index_col='Tags')\n",
    "    return df_ca, df_cas"
   ]
  },
  {
   "cell_type": "code",
   "execution_count": null,
   "id": "151f5bd9-515a-4faa-be73-9b6533daf5f6",
   "metadata": {},
   "outputs": [],
   "source": [
    "def process(df_a, df_b):\n",
    "    df_a = df_a.T\n",
    "    df_b = df_b.T\n",
    "    n_a, n_b = df_a.shape[0], df_b.shape[0]\n",
    "    df_merged = pd.concat([df_a, df_b])\n",
    "    print('Total samples: {}'.format(df_merged.shape))\n",
    "    df_merged = filter_avg(df_merged.T).T\n",
    "    df_merged['Label'] = 0\n",
    "    df_merged['Label'].iloc[: n_a] = 1\n",
    "    # 保存\n",
    "    return df_merged"
   ]
  },
  {
   "cell_type": "code",
   "execution_count": null,
   "id": "a91ecfdf-4756-410b-b61e-605a1802dd5d",
   "metadata": {},
   "outputs": [],
   "source": [
    "def filter_avg(df, thres=1.0):\n",
    "    print(\"before filtering: {}\".format(df.shape))\n",
    "    row_avg = df.mean(axis=1)\n",
    "    good_avg = df.loc[row_avg > thres]\n",
    "    print(\"after filtering: {}\".format(good_avg.shape))\n",
    "    return good_avg"
   ]
  },
  {
   "cell_type": "code",
   "execution_count": null,
   "id": "a040b5ec-ca7e-4603-b1bf-08712788f3d8",
   "metadata": {},
   "outputs": [],
   "source": [
    "def process_rfe(ca_name):\n",
    "    print('Dataset: {}, module name: {}, parent process: {}, process id: {}'\n",
    "          .format(ca_name, __name__, os.getppid(), os.getpid()))\n",
    "    df_ca, df_cas = read_ca_file(ca_name)\n",
    "    df_m = process(df_ca, df_cas)\n",
    "\n",
    "    labels = df_m['Label']\n",
    "    ftr = df_m.drop(['Label'], axis=1)\n",
    "    # RFE \n",
    "#     svc = SVC(kernel=\"linear\")\n",
    "    # DT\n",
    "    cl = DecisionTreeClassifier()\n",
    "    rfecv = RFECV(estimator=cl, step=1, cv=StratifiedKFold(10), scoring='accuracy')\n",
    "    ts = time.time()\n",
    "    rfecv.fit(ftr, labels)\n",
    "    print('RFE for {}: time elapsed: {}s'.format(ca_name, time.time() - ts))\n",
    "\n",
    "    rank_list = pd.DataFrame(data=rfecv.ranking_)\n",
    "    rank_list.to_csv('./data-after-select/ftr-rank-{}.csv'.format(ca_name))\n",
    "    with open('time-for-running-{}-is-{}s'.format(ca_name, time.time() - ts), 'w') as f:\n",
    "        pass"
   ]
  },
  {
   "cell_type": "code",
   "execution_count": null,
   "id": "00093a36-0a50-461d-968e-1ad665110471",
   "metadata": {},
   "outputs": [],
   "source": [
    "for ca_name in cas:\n",
    "    p = multiprocessing.Process(target=process_rfe, args=(ca_name,))\n",
    "    p.start()"
   ]
  }
 ],
 "metadata": {
  "kernelspec": {
   "display_name": "Python 3",
   "language": "python",
   "name": "python3"
  },
  "language_info": {
   "codemirror_mode": {
    "name": "ipython",
    "version": 3
   },
   "file_extension": ".py",
   "mimetype": "text/x-python",
   "name": "python",
   "nbconvert_exporter": "python",
   "pygments_lexer": "ipython3",
   "version": "3.8.10"
  }
 },
 "nbformat": 4,
 "nbformat_minor": 5
}
