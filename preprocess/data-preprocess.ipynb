{
 "cells": [
  {
   "cell_type": "code",
   "execution_count": null,
   "id": "ef02af73",
   "metadata": {},
   "outputs": [],
   "source": [
    "import pandas as pd\n",
    "import numpy as np"
   ]
  },
  {
   "cell_type": "markdown",
   "id": "a4d0b133-8cfb-4709-90a3-b3236a867629",
   "metadata": {},
   "source": [
    "# 1. Demo"
   ]
  },
  {
   "cell_type": "markdown",
   "id": "7d9c24b8-a0eb-4bc4-986b-4e743a338518",
   "metadata": {},
   "source": [
    "## 1.1 Read Data"
   ]
  },
  {
   "cell_type": "code",
   "execution_count": null,
   "id": "c426c573",
   "metadata": {},
   "outputs": [],
   "source": [
    "fn_a = \"KIRC/KIRC-Ca.txt\""
   ]
  },
  {
   "cell_type": "code",
   "execution_count": null,
   "id": "fbae6272",
   "metadata": {},
   "outputs": [],
   "source": [
    "df_a = pd.read_csv(fn_a, sep='\\t', index_col='Tags')\n",
    "df_a.head()"
   ]
  },
  {
   "cell_type": "code",
   "execution_count": null,
   "id": "c122bd07",
   "metadata": {},
   "outputs": [],
   "source": [
    "df_b = pd.read_csv(fn_b, sep='\\t', index_col='Tags')\n",
    "df_b.head()"
   ]
  },
  {
   "cell_type": "markdown",
   "id": "cba636ba-23c0-47b2-bd7d-751546b1358b",
   "metadata": {},
   "source": [
    "## 1.2 Process Data"
   ]
  },
  {
   "cell_type": "code",
   "execution_count": null,
   "id": "53e76208",
   "metadata": {},
   "outputs": [],
   "source": [
    "# matrix transpose\n",
    "df_a = df_a.T\n",
    "df_b = df_b.T"
   ]
  },
  {
   "cell_type": "code",
   "execution_count": null,
   "id": "d313d7b5",
   "metadata": {},
   "outputs": [],
   "source": [
    "# check average values\n",
    "def summary(df):\n",
    "    row_avg = df.mean(1)\n",
    "    print('row averages is between {} and {}'.format(row_avg.min(), row_avg.max()))\n",
    "\n",
    "# filter rows (according to row average threshold)\n",
    "def filter_avg(df, thres=1.0):\n",
    "    print(\"before filtering: {}\".format(df.shape))\n",
    "    row_avg = df.mean(1)\n",
    "    good_avg = df.loc[row_avg >= thres]\n",
    "    print(\"after filtering: {}\".format(good_avg.shape))\n",
    "    return good_avg"
   ]
  },
  {
   "cell_type": "code",
   "execution_count": null,
   "id": "67512d13",
   "metadata": {},
   "outputs": [],
   "source": [
    "summary(df_a)\n",
    "summary(df_b)"
   ]
  },
  {
   "cell_type": "code",
   "execution_count": null,
   "id": "3e0240b9",
   "metadata": {},
   "outputs": [],
   "source": [
    "# labeling tumour samples\n",
    "df_a['Label'] = 1\n",
    "df_a.head()"
   ]
  },
  {
   "cell_type": "code",
   "execution_count": null,
   "id": "0f8d252a",
   "metadata": {},
   "outputs": [],
   "source": [
    "# labeling normal samples\n",
    "df_b['Label'] = 0\n",
    "df_b.head()"
   ]
  },
  {
   "cell_type": "code",
   "execution_count": null,
   "id": "4500f083",
   "metadata": {},
   "outputs": [],
   "source": [
    "# merge\n",
    "df_merged = pd.concat([df_a, df_b])\n",
    "df_merged.shape"
   ]
  },
  {
   "cell_type": "markdown",
   "id": "4eb564f1",
   "metadata": {},
   "source": [
    "# 2. Process every data"
   ]
  },
  {
   "cell_type": "code",
   "execution_count": null,
   "id": "1d2284b7-e1d5-42ce-b663-1172011fb170",
   "metadata": {},
   "outputs": [],
   "source": [
    "cas = [\"BLCA\", \"BRCA\", \"GBM\", \"HNSC\", \"KIRC\", \"LUAD\", \"LUSC\", \"UCEC\"]"
   ]
  },
  {
   "cell_type": "code",
   "execution_count": null,
   "id": "6b28fd73",
   "metadata": {},
   "outputs": [],
   "source": [
    "def read_ca_file(ca_name):\n",
    "    ca_fi = \"{}/{}-Ca.txt\".format(ca_name, ca_name)\n",
    "    cas_fi = \"{}/{}-CaS.txt\".format(ca_name, ca_name)\n",
    "    df_ca = pd.read_csv(ca_fi, sep='\\t', index_col='Tags')\n",
    "    df_cas = pd.read_csv(cas_fi, sep='\\t', index_col='Tags')\n",
    "    return df_ca, df_cas"
   ]
  },
  {
   "cell_type": "code",
   "execution_count": null,
   "id": "38d2cd99",
   "metadata": {},
   "outputs": [],
   "source": [
    "def process(df_a, df_b):\n",
    "    # transpose\n",
    "    df_a = df_a.T\n",
    "    df_b = df_b.T\n",
    "\n",
    "    # filter\n",
    "    df_a = filter_avg(df_a)\n",
    "    df_b = filter_avg(df_b)\n",
    "\n",
    "    # label\n",
    "    df_a['Label'] = 1\n",
    "    df_b['Label'] = 0\n",
    "    \n",
    "    # merge\n",
    "    df_merged = pd.concat([df_a, df_b])\n",
    "    print('Total samples: {}'.format(df_merged.shape))\n",
    "    # save\n",
    "    return df_merged"
   ]
  },
  {
   "cell_type": "code",
   "execution_count": null,
   "id": "af193d83",
   "metadata": {},
   "outputs": [],
   "source": [
    "for ca_name in cas:\n",
    "    print('Doing: ', ca_name)\n",
    "    df_ca, df_cas = read_ca_file(ca_name)\n",
    "    df_m = process(df_ca, df_cas)\n",
    "    # 输出\n",
    "    df_m.to_csv('./OUT/{}-P.csv'.format(ca_name, ca_name), index=False, header=False, sep='\\t')"
   ]
  }
 ],
 "metadata": {
  "kernelspec": {
   "display_name": "Python 3",
   "language": "python",
   "name": "python3"
  },
  "language_info": {
   "codemirror_mode": {
    "name": "ipython",
    "version": 3
   },
   "file_extension": ".py",
   "mimetype": "text/x-python",
   "name": "python",
   "nbconvert_exporter": "python",
   "pygments_lexer": "ipython3",
   "version": "3.8.10"
  }
 },
 "nbformat": 4,
 "nbformat_minor": 5
}
