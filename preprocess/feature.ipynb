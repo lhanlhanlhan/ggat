{
 "cells": [
  {
   "cell_type": "code",
   "execution_count": null,
   "id": "65328d0c",
   "metadata": {},
   "outputs": [],
   "source": [
    "import pandas as pd\n",
    "import numpy as np"
   ]
  },
  {
   "cell_type": "markdown",
   "id": "5aea563a-4ea9-44cb-b2fe-5fc98868b125",
   "metadata": {},
   "source": [
    "# Produce Feature Matrices"
   ]
  },
  {
   "cell_type": "markdown",
   "id": "4bad9cd5-c1c1-4296-93b5-1b3aab78e7cd",
   "metadata": {},
   "source": [
    "## 1. Demo"
   ]
  },
  {
   "cell_type": "code",
   "execution_count": null,
   "id": "5b207209",
   "metadata": {},
   "outputs": [],
   "source": [
    "ca_fi = \"./{}-P.csv\".format(\"GBM\")"
   ]
  },
  {
   "cell_type": "code",
   "execution_count": null,
   "id": "08f54b5f",
   "metadata": {},
   "outputs": [],
   "source": [
    "df_ca = pd.read_csv(ca_fi, sep='\\t', header=None)"
   ]
  },
  {
   "cell_type": "code",
   "execution_count": null,
   "id": "c38dec33",
   "metadata": {},
   "outputs": [],
   "source": [
    "df_ca.head()"
   ]
  },
  {
   "cell_type": "code",
   "execution_count": null,
   "id": "da985bda",
   "metadata": {},
   "outputs": [],
   "source": [
    "df_ca.tail()"
   ]
  },
  {
   "cell_type": "markdown",
   "id": "b72e8804-ea80-4e76-b6bc-17ea8c5a79c2",
   "metadata": {},
   "source": [
    "## 2. Produce feature matrix for every dataset"
   ]
  },
  {
   "cell_type": "code",
   "execution_count": null,
   "id": "b1b6bebc",
   "metadata": {},
   "outputs": [],
   "source": [
    "def read_ca_file(ca_name):\n",
    "    ca_fi = \"./{}-P.csv\".format(ca_name)\n",
    "    df_ca = pd.read_csv(ca_fi, sep='\\t', header=None)\n",
    "    return df_ca"
   ]
  },
  {
   "cell_type": "code",
   "execution_count": null,
   "id": "4b3036bf",
   "metadata": {},
   "outputs": [],
   "source": [
    "def process(df, ds_name):\n",
    "    # Save Feature Matrix\n",
    "    ca_fi = \"./FEATURE/{}-F.csv\".format(ds_name)\n",
    "    df.to_csv(ca_fi, header=False, index=False)"
   ]
  },
  {
   "cell_type": "code",
   "execution_count": null,
   "id": "ae993448",
   "metadata": {},
   "outputs": [],
   "source": [
    "cas = [\"BLCA\", \"BRCA\", \"GBM\", \"HNSC\", \"KIRC\", \"LUAD\", \"LUSC\", \"UCEC\"]\n",
    "for ca_name in cas:\n",
    "    print('Doing: ', ca_name)\n",
    "    df_m = read_ca_file(ca_name)\n",
    "    process(df_m, ca_name)"
   ]
  }
 ],
 "metadata": {
  "kernelspec": {
   "display_name": "Python 3",
   "language": "python",
   "name": "python3"
  },
  "language_info": {
   "codemirror_mode": {
    "name": "ipython",
    "version": 3
   },
   "file_extension": ".py",
   "mimetype": "text/x-python",
   "name": "python",
   "nbconvert_exporter": "python",
   "pygments_lexer": "ipython3",
   "version": "3.8.10"
  }
 },
 "nbformat": 4,
 "nbformat_minor": 5
}
